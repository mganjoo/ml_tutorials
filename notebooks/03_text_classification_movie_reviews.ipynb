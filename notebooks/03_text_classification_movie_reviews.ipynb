{
 "cells": [
  {
   "cell_type": "markdown",
   "metadata": {},
   "source": [
    "# Tutorial 3: Text classification with movie reviews"
   ]
  },
  {
   "cell_type": "markdown",
   "metadata": {},
   "source": [
    "So far, we've built basic intuition around ML, and how to build a simple multi-layer classifier. In the previous tutorial, we dove deeper into the use case for deep learning as a tool. We showed that it is possible to use more advanced, manually created features (feature crosses), as well as use deeper neural networks to learn representations from data automatically. We also played around with the [TensorFlow Playground](http://playground.tensorflow.org/), a great tool for reviewing the concepts of datasets, loss functions, training and testing data, and learning.\n",
    "\n",
    "Until now we've worked with toy datasets (Iris flowers, or collections of points). In this tutorial, we'll use a real, popular text dataset -- **the IMDb sentiment dataset** -- and use it to build a text sentiment classfier.\n",
    "\n",
    "With this tutorial, we'll begin a series of explorations on practical problems with ML applications, and approach them as an ML practitioner would. The ground we cover here, especially around feature extraction and dataset preparation considerations, will also set us up nicely to explore ML Fairness-related considerations in subsequent tutorials."
   ]
  },
  {
   "cell_type": "code",
   "execution_count": 1,
   "metadata": {},
   "outputs": [],
   "source": [
    "%matplotlib inline\n",
    "\n",
    "import tensorflow as tf\n",
    "import numpy as np\n",
    "\n",
    "%load_ext autoreload\n",
    "%autoreload 1\n",
    "%aimport tutorial.datasets"
   ]
  },
  {
   "cell_type": "markdown",
   "metadata": {},
   "source": [
    "## Gathering data"
   ]
  },
  {
   "cell_type": "markdown",
   "metadata": {},
   "source": [
    "The data for this tutorial comes from the [Large Movie Review Dataset](http://ai.stanford.edu/~amaas/data/sentiment/), which is a dataset for binary **sentiment classification** containing 25K highly polar movie reviews for training and 25K for testing. This dataset has been used extensively in literature since 2011, finding its way into state-of-the-art natural language processing methods.\n",
    "\n",
    "We'll use the IMDb dataset because of the relatively large number of examples and its **well-balanced** nature (roughly even number of positive and negative examples). Well-balanced datasets make it easier for machine learning models generalize well to producing both positive and negative decisions, so they're a good starter for our foray into text models. Some datasets have an extremely low number of positive examples, making learning more challenging (something we'll explore later).\n",
    "\n",
    "For this tutorial, we already have a helper method to import the movie review data for analysis and modeling, assuming the [dataset TAR file](http://ai.stanford.edu/~amaas/data/sentiment/aclImdb_v1.tar.gz) has been downloaded and uncompressed."
   ]
  },
  {
   "cell_type": "code",
   "execution_count": 2,
   "metadata": {},
   "outputs": [],
   "source": [
    "data, labels = tutorial.datasets.load_imdb_dataset(\"../data/raw\", seed=123)"
   ]
  },
  {
   "cell_type": "markdown",
   "metadata": {},
   "source": [
    "## Exploring data"
   ]
  },
  {
   "cell_type": "markdown",
   "metadata": {},
   "source": [
    "Before we even begin to build and train a model, we'll spend a little time exploring and understanding the data we're dealing with. This almost always helps inform the modeling approach to take, and helps determine things like how much data to use for training, or how many computational resources we'll need (the more complex a model's architecture, the more expensive it is to train).\n",
    "\n",
    "Let's look at a training example and its corresponding label."
   ]
  },
  {
   "cell_type": "code",
   "execution_count": 3,
   "metadata": {},
   "outputs": [
    {
     "data": {
      "text/plain": [
       "'The long list of \"big\" names in this flick (including the ubiquitous John Mills) didn\\'t bowl me over to the extent that I couldn\\'t judge the film on its actual merits. It is FULL of stereotypes, caricatures, and standard, set scenes, from the humble air-ace hero to the loud-mouthed yank flyer. The music track was such that at one point, about an hour before the end, I thought the film was over: loud, rising crescendo, grand flourish and finish then silence, but then the movie continued! I found no real storyline, haphazard writing, but smartly-pressed uniforms and the pretty Jean Simmons (pre-nose job) with a rousing little ditty. I cannot say that this picture has any of the ingredients which make a film great. I found it maudlin, mawkish and minor.'"
      ]
     },
     "execution_count": 3,
     "metadata": {},
     "output_type": "execute_result"
    }
   ],
   "source": [
    "data['train'][1]"
   ]
  },
  {
   "cell_type": "markdown",
   "metadata": {},
   "source": [
    "Clearly, this is a negative review of the film, which is reflected in its label (0, corresponding to negative sentiment)."
   ]
  },
  {
   "cell_type": "code",
   "execution_count": 4,
   "metadata": {},
   "outputs": [
    {
     "data": {
      "text/plain": [
       "0"
      ]
     },
     "execution_count": 4,
     "metadata": {},
     "output_type": "execute_result"
    }
   ],
   "source": [
    "labels['train'][1]"
   ]
  },
  {
   "cell_type": "markdown",
   "metadata": {},
   "source": [
    "On the other hand, here's a review with positive sentiment, which we can see in its corresponding label."
   ]
  },
  {
   "cell_type": "code",
   "execution_count": 5,
   "metadata": {},
   "outputs": [
    {
     "data": {
      "text/plain": [
       "'Bette Midler showcases her talents and beauty in \"Diva Las Vegas\". I am thrilled that I taped it and I am able to view whenever I want to. She possesses what it takes to keep an audience in captivity. Her voice is as beautiful as ever and will truly impress you. The highlight of the show was her singing \"Stay With Me\" from her 1979 movie \"The Rose\". You can feel the emotion in the song and will end up having goose bumps. The show will leave you with the urge to go out and either rent a Bette Midler movie or go to the nearest music store and purchase one of Bette Midler\\'s albums.'"
      ]
     },
     "execution_count": 5,
     "metadata": {},
     "output_type": "execute_result"
    }
   ],
   "source": [
    "data['train'][2]"
   ]
  },
  {
   "cell_type": "code",
   "execution_count": 6,
   "metadata": {},
   "outputs": [
    {
     "data": {
      "text/plain": [
       "1"
      ]
     },
     "execution_count": 6,
     "metadata": {},
     "output_type": "execute_result"
    }
   ],
   "source": [
    "labels['train'][2]"
   ]
  },
  {
   "cell_type": "markdown",
   "metadata": {},
   "source": [
    "Let's compute some simple statistics for our training data."
   ]
  },
  {
   "cell_type": "code",
   "execution_count": 7,
   "metadata": {},
   "outputs": [
    {
     "name": "stdout",
     "output_type": "stream",
     "text": [
      "Number of samples: 25000\n",
      "Number of samples by class: positive 12500, negative 12500\n",
      "Median number of words per sample: 174.0\n"
     ]
    }
   ],
   "source": [
    "print(\"Number of samples: {}\".format(len(data['train'])))\n",
    "print(\"Number of samples by class: positive {}, negative {}\".format(\n",
    "    len([y for y in labels['train'] if y == 0]), len([y for y in labels['train'] if y == 1])))\n",
    "num_words = [len(s.split()) for s in data['train']]\n",
    "print(\"Median number of words per sample: {}\".format(np.median(num_words)))"
   ]
  },
  {
   "cell_type": "markdown",
   "metadata": {},
   "source": [
    "The median number of words per sample is around 174, which is reasonably large. The number of words per sample is an important metric to determine what kind of learning method will work well on data. In general, if there are a relatively large number of words per sample, then we can use simpler learning methods that treat text as a \"bag of words\" (more on that in the next section). These are called **n-gram models**. If there are fewer number of words per sample, we might need to use more advanced **sequence models**, that better preserve and use ordering information between words.\n",
    "\n",
    "Developing intuition for exactly how many words is \"large enough\" or \"small enough\" takes some trial-and-error and experimentation. In this tutorial we'll simply go with the choice of an n-gram model and train it from start to finish. In later tutorials, we might contrast this with a sequence model, which requires a different approach to preparing data and building a model."
   ]
  },
  {
   "cell_type": "markdown",
   "metadata": {},
   "source": [
    "## Training an n-gram model: preparing the data"
   ]
  },
  {
   "cell_type": "markdown",
   "metadata": {},
   "source": [
    "Before anything, we need to make sure our dataset is set up correctly. We would like to **shuffle** the dataset to remove any effects associated with the order in which the dataset was gathered. Good practice also dictates extracting out a **validation set** from the training data. The validation data is useful as a \"practice test set\" during model training, so that we can adjust the parameters of the model (like how long to train, how quickly to adjust the model weights, etc).\n",
    "\n",
    "The test set is kept distinct and is only used to verify the final results from a trained model.\n",
    "\n",
    "Since the utility function that loaded the dataset already took care of shuffling the data, we can simply pick the first 5000 (20% of data) for the validation set."
   ]
  },
  {
   "cell_type": "code",
   "execution_count": 8,
   "metadata": {},
   "outputs": [],
   "source": [
    "data['validate'] = data['train'][:5000]\n",
    "labels['validate'] = labels['train'][:5000]\n",
    "data['train'] = data['train'][5000:]\n",
    "labels['train'] = labels['train'][5000:]"
   ]
  },
  {
   "cell_type": "markdown",
   "metadata": {},
   "source": [
    "## Training an n-gram model: extracting features"
   ]
  },
  {
   "cell_type": "markdown",
   "metadata": {},
   "source": [
    "As we know, before training a model we need to identify the **input features** to use. ML models take a fixed size  sequence of numbers as input (in the Iris dataset, it was a sequence of petal and sepal measurements; in the \"points\" dataset from last tutorial, it was the `x` and `y` coordinates of the points and various cross-features).\n",
    "\n",
    "In this case, though, instead of fixed size numerical sequences, we have raw texts of varying lengths. To convert data to these fixed size sequences, we'll do two steps:\n",
    "\n",
    "1. **Tokenization**: dividing each text into smaller _tokens_ or sub-texts. The most common approach is to use individual words as tokens.\n",
    "2. **Vectorization**: using the tokens derived from the first step to create a good numerical sequence or **vector** representation of the text.\n",
    "\n",
    "Let's walk through a specific example, using a utility from the [scikit-learn](https://scikit-learn.org/stable/) library, `CountVectorizer`, that does the heavy lifting of tokenization and vectorization for us."
   ]
  },
  {
   "cell_type": "code",
   "execution_count": 9,
   "metadata": {},
   "outputs": [
    {
     "data": {
      "text/plain": [
       "<4x13 sparse matrix of type '<class 'numpy.int64'>'\n",
       "\twith 19 stored elements in Compressed Sparse Row format>"
      ]
     },
     "execution_count": 9,
     "metadata": {},
     "output_type": "execute_result"
    }
   ],
   "source": [
    "from sklearn.feature_extraction.text import CountVectorizer\n",
    "\n",
    "simple_vectorizer = CountVectorizer()\n",
    "\n",
    "simple_dataset = [\n",
    "    'This is a terrible terrible and disappointing movie.',\n",
    "    'This is something worth spending on.',\n",
    "    'Is this a movie I recommend? No.',\n",
    "    'Some \"movie\".',\n",
    "]\n",
    "\n",
    "X = simple_vectorizer.fit_transform(simple_dataset)\n",
    "X"
   ]
  },
  {
   "cell_type": "markdown",
   "metadata": {},
   "source": [
    "Before we look into this output (a 4x13 matrix of numbers), let's take a deeper look at the steps involved here."
   ]
  },
  {
   "cell_type": "markdown",
   "metadata": {},
   "source": [
    "### Tokenization\n",
    "\n",
    "Let's first look at the tokenization step. Conveniently, we can get the specific function that does tokenizer, called the `analyzer` in scikit-learn."
   ]
  },
  {
   "cell_type": "code",
   "execution_count": 10,
   "metadata": {},
   "outputs": [
    {
     "name": "stdout",
     "output_type": "stream",
     "text": [
      "['this', 'is', 'terrible', 'terrible', 'and', 'disappointing', 'movie']\n",
      "['is', 'this', 'movie', 'recommend', 'no']\n"
     ]
    }
   ],
   "source": [
    "analyze = simple_vectorizer.build_analyzer()\n",
    "print(analyze('This is a terrible terrible and disappointing \"movie\".'))\n",
    "print(analyze('Is this a movie I recommend? No.'))"
   ]
  },
  {
   "cell_type": "markdown",
   "metadata": {},
   "source": [
    "Here, we can infer what kind of tokenization is happening. The text is split into words, punctuation such as periods and quotes are removed, and all words are converted into lowercase. The tokenizer also ignores single-letter words (like \"I\") by default. Specifics of this tokenization can be configured in scikit-learn, but for now we'll stick to these reasonable defaults."
   ]
  },
  {
   "cell_type": "markdown",
   "metadata": {},
   "source": [
    "### Vectorization\n",
    "\n",
    "Now let's look at what's actually produced by the vectorization step that actually produces a numerical vector for each sample."
   ]
  },
  {
   "cell_type": "code",
   "execution_count": 11,
   "metadata": {
    "scrolled": true
   },
   "outputs": [
    {
     "name": "stdout",
     "output_type": "stream",
     "text": [
      "[[1 1 1 1 0 0 0 0 0 0 2 1 0]\n",
      " [0 0 1 0 0 1 0 0 1 1 0 1 1]\n",
      " [0 0 1 1 1 0 1 0 0 0 0 1 0]\n",
      " [0 0 0 1 0 0 0 1 0 0 0 0 0]]\n",
      "Dimensions: (4, 13)\n"
     ]
    }
   ],
   "source": [
    "print(X.toarray())\n",
    "print(\"Dimensions: {}\".format(X.shape))"
   ]
  },
  {
   "cell_type": "markdown",
   "metadata": {},
   "source": [
    "It's clear that there are 4 rows corresponding to 4 samples in our toy dataset, and we know that each row is a **feature vector**, where each entry is a feature. What exactly are the features? Let's look at their names."
   ]
  },
  {
   "cell_type": "code",
   "execution_count": 12,
   "metadata": {},
   "outputs": [
    {
     "name": "stdout",
     "output_type": "stream",
     "text": [
      "['and', 'disappointing', 'is', 'movie', 'no', 'on', 'recommend', 'some', 'something', 'spending', 'terrible', 'this', 'worth']\n",
      "Number of features: 13\n"
     ]
    }
   ],
   "source": [
    "print(simple_vectorizer.get_feature_names())\n",
    "print(\"Number of features: {}\".format(len(simple_vectorizer.get_feature_names())))"
   ]
  },
  {
   "cell_type": "markdown",
   "metadata": {},
   "source": [
    "There are 13 features, each corresponding to each unique word in the dataset! Each entry is simply a count of the number of times that unique word appeared in the particular sample."
   ]
  },
  {
   "cell_type": "code",
   "execution_count": 13,
   "metadata": {},
   "outputs": [
    {
     "data": {
      "text/plain": [
       "array([[1, 1, 0, 0, 0, 0, 0, 0, 0, 0, 2, 0, 0]])"
      ]
     },
     "execution_count": 13,
     "metadata": {},
     "output_type": "execute_result"
    }
   ],
   "source": [
    "simple_vectorizer.transform([\"Disappointing, terrible and terrible.\"]).toarray()"
   ]
  },
  {
   "cell_type": "markdown",
   "metadata": {},
   "source": [
    "This vector has a 1 for the presence of the words \"and\" and \"disappointing\", and a 2 representing the two occurrences of the word \"terrible\".\n",
    "\n",
    "So basically the `CountVectorizer` does the following:\n",
    "\n",
    "1. It tokenizes text in the training data into words.\n",
    "2. It looks at all the words that occur in the training data to create a **vocabulary** of words.\n",
    "3. Then, given an input sample, it outputs a feature vector, counting the number of times each word in the vocabulary appears in that sample.\n",
    "\n",
    "This vectorization technique is also called the **\"bag-of-words\" approach** -- it literally is treating each sample as a \"bag\" of words from the vocabulary."
   ]
  },
  {
   "cell_type": "markdown",
   "metadata": {},
   "source": [
    "### Encountering unseen words\n",
    "\n",
    "We've seen that the vectorizer builds its vocabulary by analyzing the training dataset. If we then try to vectorize an example that contains words that the vectorizer hasn't seen in the training data, those words will simply be ignored."
   ]
  },
  {
   "cell_type": "code",
   "execution_count": 14,
   "metadata": {
    "scrolled": true
   },
   "outputs": [
    {
     "data": {
      "text/plain": [
       "array([[0, 0, 0, 0, 0, 0, 0, 0, 0, 0, 0, 0, 0]])"
      ]
     },
     "execution_count": 14,
     "metadata": {},
     "output_type": "execute_result"
    }
   ],
   "source": [
    "simple_vectorizer.transform(['Complete gibberish. Rotten film.']).toarray()"
   ]
  },
  {
   "cell_type": "markdown",
   "metadata": {},
   "source": [
    "None of the four words in this sample appeared when building the vectorizer's vocabulary, so they won't correspond to an entry in the output vector, resulting in a vector of all 0's."
   ]
  },
  {
   "cell_type": "markdown",
   "metadata": {},
   "source": [
    "### n-gram counts"
   ]
  },
  {
   "cell_type": "markdown",
   "metadata": {},
   "source": [
    "So far, we've only seen **unigram** features (i.e. when each token becomes a feature). We can also expand this to arbitrary sequences of `n` consecutive tokens, called **n-grams**. For example, the following vectorizer extracts both unigrams and bigrams (`n = 2`)."
   ]
  },
  {
   "cell_type": "code",
   "execution_count": 15,
   "metadata": {},
   "outputs": [
    {
     "name": "stdout",
     "output_type": "stream",
     "text": [
      "['is', 'this', 'movie', 'recommend', 'no', 'is this', 'this movie', 'movie recommend', 'recommend no']\n"
     ]
    }
   ],
   "source": [
    "bigram_vectorizer = CountVectorizer(ngram_range=(1, 2))\n",
    "analyze = bigram_vectorizer.build_analyzer()\n",
    "print(analyze(\"Is this a movie I recommend? No.\"))"
   ]
  },
  {
   "cell_type": "markdown",
   "metadata": {},
   "source": [
    "Using n-grams helps preserve some local ordering information as part of the input to the model. For example, the bigram `is this` is distinct from the bigram `this is`, and since the former is more common in question-like sentences, this can be an important signal to a model. This signal would be lost if we just used unigrams."
   ]
  },
  {
   "cell_type": "markdown",
   "metadata": {},
   "source": [
    "### Feature selection"
   ]
  },
  {
   "cell_type": "markdown",
   "metadata": {},
   "source": [
    "In the toy example above, the tokenization and vectorization steps yielded 13 words as features. In the IMDb example, there are tens of thousands of words that end up in the vocabulary, and when we expand our feature set to include bigrams, the vocabulary increases even further. Not all these features contribute equally to the model, especially unigrams and bigrams that appear extremely rarely across the dataset.\n",
    "\n",
    "We can use statistical methods to measure feature importance, or how much each feature contributes to label predictions, and include a certain number of informative tokens. We will use the `SelectKBest` method to select the top 5,000 features.\n",
    "\n",
    "Putting together the steps of feature extraction and feature selection, we can put together a function that takes in a vectorizer and produces vectorized training, validation, and test sets."
   ]
  },
  {
   "cell_type": "code",
   "execution_count": 16,
   "metadata": {},
   "outputs": [],
   "source": [
    "from sklearn.feature_selection import SelectKBest\n",
    "from sklearn.feature_selection import f_classif\n",
    "\n",
    "\n",
    "def vectorize(data, labels, vectorizer, top_k=5000):\n",
    "    x = {}\n",
    "    # Learn vocabulary from training texts and vectorize training texts.\n",
    "    x['train'] = vectorizer.fit_transform(data['train'])\n",
    "    \n",
    "    # Select top 'k' of the vectorized features.\n",
    "    selector = SelectKBest(f_classif, k=min(top_k, x['train'].shape[1]))\n",
    "    selector.fit(x['train'], labels['train'])\n",
    "    x['train'] = selector.transform(x['train'])\n",
    "    \n",
    "    # Vectorize validation and test data\n",
    "    x['validate'] = selector.transform(vectorizer.transform(data['validate']))\n",
    "    x['test'] = selector.transform(vectorizer.transform(data['test']))\n",
    "    \n",
    "    return x"
   ]
  },
  {
   "cell_type": "markdown",
   "metadata": {},
   "source": [
    "## Building and training the model"
   ]
  },
  {
   "cell_type": "markdown",
   "metadata": {},
   "source": [
    "Now that we have a way to extract input features from our dataset, we can focus on building a regular binary classification model (similar to previous tutorials) that tries to predict sentiment.\n",
    "\n",
    "This is the easier part -- machine learning libraries like Tensorflow provide an easy way to build complex model architectures programmatically. For this tutorial, we'll build the simple class of deep neural network that we've been building in the previous tutorial, which is formally called a **multi-layer perceptron (MLP)**."
   ]
  },
  {
   "cell_type": "code",
   "execution_count": 17,
   "metadata": {},
   "outputs": [],
   "source": [
    "from livelossplot.tf_keras import PlotLossesCallback\n",
    "\n",
    "def train_and_eval_mlp(x, labels,\n",
    "                       layers=2, # number of hidden layers\n",
    "                       units=64, # number of hidden units per layer\n",
    "                       dropout_rate=0.2, # parameter that controls overfitting\n",
    "                       learning_rate=1e-3): # the smaller the number, the slower the network learns\n",
    "    \n",
    "    model = tf.keras.Sequential()\n",
    "    model.add(tf.keras.layers.Dropout(rate=0.2, input_shape=x['train'].shape[1:]))\n",
    "\n",
    "    for _ in range(layers - 1):\n",
    "        model.add(tf.keras.layers.Dense(units=units, activation='relu'))\n",
    "        model.add(tf.keras.layers.Dropout(rate=0.2))\n",
    "        \n",
    "    model.add(tf.keras.layers.Dense(1, activation='sigmoid'))\n",
    "    \n",
    "    optimizer = tf.keras.optimizers.Adam(lr=learning_rate)\n",
    "    model.compile(loss='binary_crossentropy', optimizer=optimizer, metrics=['accuracy'])\n",
    "\n",
    "    # Create callback for early stopping on validation loss. If the loss does\n",
    "    # not decrease in two consecutive tries, stop training. \n",
    "    callbacks = [tf.keras.callbacks.EarlyStopping(monitor='val_loss', patience=2),\n",
    "                 PlotLossesCallback()]\n",
    "\n",
    "    history = model.fit(\n",
    "        x['train'],\n",
    "        labels['train'],\n",
    "        epochs=30,\n",
    "        callbacks=callbacks,\n",
    "        validation_data=(x['validate'], labels['validate']),\n",
    "        verbose=0,\n",
    "        batch_size=128)\n",
    "\n",
    "    results = model.evaluate(x['test'], labels['test'])\n",
    "    print(\"Test set accuracy: {}\".format(results[1]))\n",
    "                       \n",
    "    return model"
   ]
  },
  {
   "cell_type": "markdown",
   "metadata": {},
   "source": [
    "Now, we can define a `CountVectorizer` with some additional parameters (meant to handle presence of special characters in the IMDb dataset). We'll start with just unigrams, and later add bigrams to the model to compare performance."
   ]
  },
  {
   "cell_type": "code",
   "execution_count": 18,
   "metadata": {},
   "outputs": [],
   "source": [
    "count_vectorizer = CountVectorizer(ngram_range=(1, 1),      # only unigrams\n",
    "                                   strip_accents='unicode', # remove accented characters\n",
    "                                   decode_error='replace',  # replace un-decodeable characters\n",
    "                                   min_df=2) # discard tokens that appear in fewer than two samples/reviews\n",
    "x = vectorize(data, labels, count_vectorizer)"
   ]
  },
  {
   "cell_type": "markdown",
   "metadata": {},
   "source": [
    "Finally, we can train and evaluate the model on the data. The training and evaluation function will produce a nice graph showing the decrease in log-loss and increase in accuracy over time, showing that the model is learning."
   ]
  },
  {
   "cell_type": "code",
   "execution_count": 19,
   "metadata": {},
   "outputs": [
    {
     "data": {
      "image/png": "[encoded data removed]",
      "text/plain": [
       "<Figure size 864x576 with 2 Axes>"
      ]
     },
     "metadata": {
      "needs_background": "light"
     },
     "output_type": "display_data"
    },
    {
     "name": "stdout",
     "output_type": "stream",
     "text": [
      "Log-loss (cost function):\n",
      "training   (min:    0.177, max:    0.398, cur:    0.177)\n",
      "validation (min:    0.267, max:    0.285, cur:    0.280)\n",
      "\n",
      "Accuracy:\n",
      "training   (min:    0.831, max:    0.931, cur:    0.931)\n",
      "validation (min:    0.886, max:    0.892, cur:    0.888)\n",
      "25000/25000 [==============================] - 2s 74us/step\n",
      "Test set accuracy: 0.87372\n"
     ]
    }
   ],
   "source": [
    "model = train_and_eval_mlp(x, labels, layers=2, units=64)"
   ]
  },
  {
   "cell_type": "markdown",
   "metadata": {},
   "source": [
    "We see that the test set accuracy is ~88%! This is a pretty good result for this dataset, where the state-of-the-art is around 95%!"
   ]
  },
  {
   "cell_type": "markdown",
   "metadata": {},
   "source": [
    "### Adjusting hyperparameters\n",
    "\n",
    "We can try to change the hyperparameters of the network and see how that affects performance. This time, we'll use 3 layers instead of 2, and 16 hidden units instead of 64. We'll also increase the \"dropout\" rate, which is a fraction used to reduce overfitting in the model."
   ]
  },
  {
   "cell_type": "code",
   "execution_count": 20,
   "metadata": {
    "scrolled": false
   },
   "outputs": [
    {
     "data": {
      "image/png": "[encoded data removed]",
      "text/plain": [
       "<Figure size 864x576 with 2 Axes>"
      ]
     },
     "metadata": {
      "needs_background": "light"
     },
     "output_type": "display_data"
    },
    {
     "name": "stdout",
     "output_type": "stream",
     "text": [
      "Log-loss (cost function):\n",
      "training   (min:    0.214, max:    0.527, cur:    0.214)\n",
      "validation (min:    0.262, max:    0.343, cur:    0.277)\n",
      "\n",
      "Accuracy:\n",
      "training   (min:    0.744, max:    0.913, cur:    0.913)\n",
      "validation (min:    0.866, max:    0.893, cur:    0.893)\n",
      "25000/25000 [==============================] - 1s 58us/step\n",
      "Test set accuracy: 0.88188\n"
     ]
    }
   ],
   "source": [
    "model = train_and_eval_mlp(x, labels, layers=3, units=16, dropout_rate=0.5)"
   ]
  },
  {
   "cell_type": "markdown",
   "metadata": {},
   "source": [
    "## Advanced: tf-idf vectorization instead of simple counts"
   ]
  },
  {
   "cell_type": "markdown",
   "metadata": {},
   "source": [
    "One problem with the simple word counting done by `CountVectorizer` is that there are often common words that occur across documents (\"a\", \"the\", \"of\") in large frequencies. These tokens aren't particularly unique to the dataset, and don't help much with learning. The vectorizer should ideally penalize such high-frequency tokens so that they don't have a high token count in comparison to more meaningful words (\"exceptional\", \"great\", \"bad\").\n",
    "\n",
    "To account for this, we can use `TfidfVectorizer`, which uses **tf-idf** scores for each token. tf-idf stands for \"term frequency-inverse document frequency\", which proportionally reduces the count (term frequency) of a token by the number of \"documents\" (in this case, reviews) that it has been seen in. Effectively, this score is penalizing tokens that are too common across the dataset, and giving high scores to \"meaningful\" tokens.\n",
    "\n",
    "As an example, let's go back to our toy dataset, and compare what `CountVectorizer` and `TfidfVectorizer` produce."
   ]
  },
  {
   "cell_type": "code",
   "execution_count": 21,
   "metadata": {},
   "outputs": [
    {
     "data": {
      "text/plain": [
       "array([[0.37210398, 0.37210398, 0.23750915, 0.23750915, 0.        ,\n",
       "        0.        , 0.        , 0.        , 0.        , 0.        ,\n",
       "        0.74420795, 0.23750915, 0.        ],\n",
       "       [0.        , 0.        , 0.29088811, 0.        , 0.        ,\n",
       "        0.45573244, 0.        , 0.        , 0.45573244, 0.45573244,\n",
       "        0.        , 0.29088811, 0.45573244],\n",
       "       [0.        , 0.        , 0.3555803 , 0.3555803 , 0.55708525,\n",
       "        0.        , 0.55708525, 0.        , 0.        , 0.        ,\n",
       "        0.        , 0.3555803 , 0.        ],\n",
       "       [0.        , 0.        , 0.        , 0.53802897, 0.        ,\n",
       "        0.        , 0.        , 0.84292635, 0.        , 0.        ,\n",
       "        0.        , 0.        , 0.        ]])"
      ]
     },
     "execution_count": 21,
     "metadata": {},
     "output_type": "execute_result"
    }
   ],
   "source": [
    "from sklearn.feature_extraction.text import CountVectorizer, TfidfVectorizer\n",
    "\n",
    "simple_count_vectorizer = CountVectorizer()\n",
    "simple_tfidf_vectorizer = TfidfVectorizer()\n",
    "\n",
    "simple_dataset = [\n",
    "    'This is a terrible terrible and disappointing movie.',\n",
    "    'This is something worth spending on.',\n",
    "    'Is this a movie I recommend? No.',\n",
    "    'Some \"movie\".',\n",
    "]\n",
    "\n",
    "X_with_count = simple_count_vectorizer.fit_transform(simple_dataset)\n",
    "X_with_tfidf = simple_tfidf_vectorizer.fit_transform(simple_dataset)\n",
    "X_with_tfidf.toarray()"
   ]
  },
  {
   "cell_type": "markdown",
   "metadata": {},
   "source": [
    "Instead of simple counts, now the vectorizer produces fractions, which indicate that we're now doing some kind of weighting.\n",
    "\n",
    "The real difference, though, is in observing the values produced for certain features across samples. For example, here are the feature values produced by the count and tf-idf vectorizers for the features corresponding to \"is\" and \"recommend\":"
   ]
  },
  {
   "cell_type": "code",
   "execution_count": 22,
   "metadata": {},
   "outputs": [
    {
     "name": "stdout",
     "output_type": "stream",
     "text": [
      "Values for 'is' with count vectorizer:  [1 1 1 0]\n",
      "Values for 'recommend' with count vectorizer:  [0 0 1 0]\n",
      "Values for 'is' with count vectorizer:  [0.23750915 0.29088811 0.3555803  0.        ]\n",
      "Values for 'recommend' with tf-idf vectorizer:  [0.         0.         0.55708525 0.        ]\n"
     ]
    }
   ],
   "source": [
    "print(\"Values for 'is' with count vectorizer: \",\n",
    "      X_with_count.toarray()[:, simple_vectorizer.vocabulary_[\"is\"]])\n",
    "print(\"Values for 'recommend' with count vectorizer: \",\n",
    "      X_with_count.toarray()[:, simple_vectorizer.vocabulary_[\"recommend\"]])\n",
    "print(\"Values for 'is' with count vectorizer: \",\n",
    "      X_with_tfidf.toarray()[:, simple_vectorizer.vocabulary_[\"is\"]])\n",
    "print(\"Values for 'recommend' with tf-idf vectorizer: \",\n",
    "      X_with_tfidf.toarray()[:, simple_vectorizer.vocabulary_[\"recommend\"]])"
   ]
  },
  {
   "cell_type": "markdown",
   "metadata": {},
   "source": [
    "As we can see, the `CountVectorizer` doesn't treat the two features really differently, while the `TfidfVectorizer` gives lower values to features that are less \"interesting\"."
   ]
  },
  {
   "cell_type": "markdown",
   "metadata": {},
   "source": [
    "### Training a model with tf-idf vectorizer\n",
    "\n",
    "Let's build a new vectorizer that does tf-idf weighting. This time, let's also include bigrams in our input features."
   ]
  },
  {
   "cell_type": "code",
   "execution_count": 23,
   "metadata": {},
   "outputs": [],
   "source": [
    "from sklearn.feature_extraction.text import TfidfVectorizer\n",
    "\n",
    "tfidf_vectorizer = TfidfVectorizer(ngram_range=(1, 2),      # Use unigrams and bigrams\n",
    "                                   strip_accents='unicode', # remove accented characters\n",
    "                                   decode_error='replace',  # replace un-decodeable characters\n",
    "                                   min_df=2) # discard tokens that appear in fewer than two samples/reviews\n",
    "x_2 = vectorize(data, labels, tfidf_vectorizer)"
   ]
  },
  {
   "cell_type": "markdown",
   "metadata": {},
   "source": [
    "Then, let's try training the MLP again with this new vectorized dataset (we might have to adjust hyperparameters a few times to learn something effective)."
   ]
  },
  {
   "cell_type": "code",
   "execution_count": 24,
   "metadata": {},
   "outputs": [
    {
     "data": {
      "image/png": "[encoded data removed]",
      "text/plain": [
       "<Figure size 864x576 with 2 Axes>"
      ]
     },
     "metadata": {
      "needs_background": "light"
     },
     "output_type": "display_data"
    },
    {
     "name": "stdout",
     "output_type": "stream",
     "text": [
      "Log-loss (cost function):\n",
      "training   (min:    0.170, max:    0.538, cur:    0.170)\n",
      "validation (min:    0.232, max:    0.383, cur:    0.233)\n",
      "\n",
      "Accuracy:\n",
      "training   (min:    0.794, max:    0.934, cur:    0.934)\n",
      "validation (min:    0.877, max:    0.903, cur:    0.901)\n",
      "25000/25000 [==============================] - 2s 73us/step\n",
      "Test set accuracy: 0.90164\n"
     ]
    }
   ],
   "source": [
    "model = train_and_eval_mlp(x_2, labels, layers=2, units=64, dropout_rate=0.2)"
   ]
  },
  {
   "cell_type": "markdown",
   "metadata": {},
   "source": [
    "We should be able to get an accuracy of 90% with a little trial and error, reflecting a 2% increase over our previous model, and only 5% lower than state-of-the-art!"
   ]
  }
 ],
 "metadata": {
  "kernelspec": {
   "display_name": "Python 3",
   "language": "python",
   "name": "python3"
  },
  "language_info": {
   "codemirror_mode": {
    "name": "ipython",
    "version": 3
   },
   "file_extension": ".py",
   "mimetype": "text/x-python",
   "name": "python",
   "nbconvert_exporter": "python",
   "pygments_lexer": "ipython3",
   "version": "3.6.7"
  }
 },
 "nbformat": 4,
 "nbformat_minor": 2
}
